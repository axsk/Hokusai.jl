{
 "cells": [
  {
   "cell_type": "code",
   "execution_count": 1,
   "metadata": {},
   "outputs": [
    {
     "name": "stderr",
     "output_type": "stream",
     "text": [
      "\u001b[1m\u001b[33mWARNING: \u001b[39m\u001b[22m\u001b[33mcould not load data\u001b[39m\n"
     ]
    },
    {
     "ename": "LoadError",
     "evalue": "\u001b[91mUndefVarError: readdata! not defined\u001b[39m",
     "output_type": "error",
     "traceback": [
      "\u001b[91mUndefVarError: readdata! not defined\u001b[39m",
      ""
     ]
    }
   ],
   "source": [
    "using Hokusai\n",
    "Hokusai.readdata!();"
   ]
  },
  {
   "cell_type": "code",
   "execution_count": 2,
   "metadata": {},
   "outputs": [
    {
     "ename": "LoadError",
     "evalue": "\u001b[91mUndefVarError: savecl not defined\u001b[39m",
     "output_type": "error",
     "traceback": [
      "\u001b[91mUndefVarError: savecl not defined\u001b[39m",
      ""
     ]
    }
   ],
   "source": [
    "# single computation\n",
    "Hokusai.savecl(6, 7, 100, 50, precl = 300, overwrite=true);"
   ]
  },
  {
   "cell_type": "code",
   "execution_count": null,
   "metadata": {},
   "outputs": [],
   "source": [
    "#TODO: fix\n",
    "# interactive plotting\n",
    "using Interact\n",
    "#PyPlot.ion()\n",
    "f = PyPlot.figure()\n",
    "@manipulate for img=1, n=10, tau=50, sigma=60, method = [:scaling, :crispness, :metastability], precl = 200, live = [:on, :off]\n",
    "    PyPlot.withfig(f) do\n",
    "        if (live == :on)\n",
    "            result = Hokusai.savecl(img, n, tau, sigma, method = method, precl = precl, overwrite=true);\n",
    "        end\n",
    "    end\n",
    "end"
   ]
  },
  {
   "cell_type": "code",
   "execution_count": null,
   "metadata": {},
   "outputs": [],
   "source": [
    "# simple batch script\n",
    "for i=[7], n=[11], tau=[80,100,120], σ=[50,60,80,100,120], method=[:scaling], precl=0   \n",
    "    @time Hokusai.savecl(i, n, tau, σ, method = method, precl = precl);\n",
    "    PyPlot.close()\n",
    "end;"
   ]
  },
  {
   "cell_type": "code",
   "execution_count": null,
   "metadata": {
    "collapsed": true
   },
   "outputs": [],
   "source": [
    "# compute clusterings for comparison with kmeans\n",
    "\n",
    "clusternums = [5,5,7,7,6,7,7,8]; # clusternumbers from manual classification\n",
    "imgs = [1:8]\n",
    "τs = [60,80,100]\n",
    "σs=[60,80,100,120]\n",
    "\n",
    "run = 0\n",
    "runs = length(imgs) * 3 * length(τs) * length(σs)\n",
    "\n",
    "for img=imgs, n=[clusternums[img]-1:clusternums[img]+1], τ=τs, σ=σs, method=[:scaling], precl=1000\n",
    "    run+=1; print(run,\" of \",runs,\": \")\n",
    "    \n",
    "    Hokusai.savecl(img,n,0,0,:scaling,0,kmeans=true, folder=\"out/km\");\n",
    "    PyPlot.close()\n",
    "    time = @elapsed Hokusai.savecl(img, n, τ, σ, method=method, precl=precl, folder=\"kmeanscomp\");\n",
    "    PyPlot.close()\n",
    "    \n",
    "    print(((runs-run)*time/60),\" minutes remaining at \", time, \" seconds per run\\n\")    \n",
    "end;"
   ]
  },
  {
   "cell_type": "code",
   "execution_count": null,
   "metadata": {
    "collapsed": true
   },
   "outputs": [],
   "source": [
    "# bachelor plots\n",
    "parms = [ # i n t s\n",
    "1 5 20 35\n",
    "1 6 50 60\n",
    "1 10 60 50\n",
    "\n",
    "5 6 100 250\n",
    "5 7 80 120\n",
    "5 9 80 120\n",
    "    \n",
    "7 6 80 80 \n",
    "7 8 80 80\n",
    "7 10 80 100]\n",
    "         \n",
    "for i = 1 : size(parms,1)\n",
    "    Hokusai.savecl(parms[i,1], parms[i,2], parms[i,3], parms[i,4], folder=\"ba\")\n",
    "    PyPlot.close()\n",
    "end"
   ]
  },
  {
   "cell_type": "code",
   "execution_count": null,
   "metadata": {},
   "outputs": [],
   "source": [
    "# testcode for optimization of sigma/tau by metastability\n",
    "img = 5\n",
    "n = 6\n",
    "precl = 200\n",
    "\n",
    "function obj(args)\n",
    "    ms = -minimum(diag(coupling(Hokusai.savecl(img,n,args[1]*10,args[2]*10,precl=precl,folder=\"optim\",overwrite=true))))\n",
    "    \n",
    "    PyPlot.close()\n",
    "    PyPlot.show()\n",
    "    ms = ms == NaN ? 0 : ms\n",
    "    ms\n",
    "end\n",
    "\n",
    "using Optim\n",
    "optimize(obj, [10.,10.], method=:nelder_mead, show_trace=true, iterations=10);"
   ]
  },
  {
   "cell_type": "code",
   "execution_count": null,
   "metadata": {},
   "outputs": [],
   "source": [
    "# metastudy of metastbailities given a df with results, which is missing here :|, feel free to remove\n",
    "nanmean(x) = mean(x[ x.>0 ])\n",
    "\n",
    "filtered = df[ df[:,:tau].>0,: ]\n",
    "\n",
    "aggr = by(filtered, [:img, :n]) do df\n",
    "    DataFrame(\n",
    "        samples = size(df,1),\n",
    "        meanmetastab   =  round(nanmean(df[:metastab]),1),\n",
    "        maxminmetastab = (round(maximum(df[:metastab]),1), round(minimum(df[:metastab]),1)),\n",
    "        meanminstab    =  round(nanmean(df[:minstab]),1),\n",
    "        maxminminstab  = (round(maximum(df[:minstab]),1),  round(minimum(df[:minstab]),1)))\n",
    "end\n",
    "\n",
    "sort!(aggr, cols = [:img, :n])"
   ]
  }
 ],
 "metadata": {
  "kernelspec": {
   "display_name": "Julia 0.6.2",
   "language": "julia",
   "name": "julia-0.6"
  },
  "language_info": {
   "file_extension": ".jl",
   "mimetype": "application/julia",
   "name": "julia",
   "version": "0.6.2"
  }
 },
 "nbformat": 4,
 "nbformat_minor": 1
}
