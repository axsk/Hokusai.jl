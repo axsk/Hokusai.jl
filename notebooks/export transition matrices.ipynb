{
 "cells": [
  {
   "cell_type": "code",
   "execution_count": 2,
   "metadata": {},
   "outputs": [
    {
     "data": {
      "text/plain": [
       "sample (generic function with 1 method)"
      ]
     },
     "execution_count": 2,
     "metadata": {},
     "output_type": "execute_result"
    }
   ],
   "source": [
    "using Hokusai"
   ]
  },
  {
   "cell_type": "code",
   "execution_count": 7,
   "metadata": {},
   "outputs": [
    {
     "data": {
      "text/plain": [
       "transitionmatrix (generic function with 4 methods)"
      ]
     },
     "execution_count": 7,
     "metadata": {},
     "output_type": "execute_result"
    }
   ],
   "source": [
    "function transitionmatrix(img, tau=80, sigma=80, precl=0)\n",
    "  imgdata = filterdata(data, img)[[:fposx, :fposy, :fixdur, :subj]]\n",
    "  imgdata = DataFrame(x=imgdata[1], y=imgdata[2], time=imgdata[3], groupby=imgdata[4])\n",
    "  P = Hokusai.makeP(imgdata, tau, sigma, :none, false)\n",
    "end"
   ]
  },
  {
   "cell_type": "code",
   "execution_count": 8,
   "metadata": {
    "collapsed": true
   },
   "outputs": [
    {
     "data": {
      "text/plain": [
       "1986×1986 Array{Float64,2}:\n",
       " 0.00334124   0.000182376  7.73149e-5   …  0.000997332  0.000343195\n",
       " 0.000113108  0.0020292    0.000107674     9.13022e-5   3.6929e-5  \n",
       " 7.47003e-5   0.000113281  0.00313158      6.66551e-5   3.68853e-5 \n",
       " 0.000110823  0.00196621   0.000105287     9.36708e-5   3.70384e-5 \n",
       " 0.000103135  0.00165173   0.000121397     9.83164e-5   3.76397e-5 \n",
       " 0.000114791  0.00204249   0.000105037  …  9.12361e-5   3.64532e-5 \n",
       " 0.0023951    9.0721e-5    7.45951e-5      0.00173753   0.000952925\n",
       " 7.54196e-5   0.000226585  0.0019661       8.65257e-5   3.64431e-5 \n",
       " 7.97886e-5   0.000119243  0.00320061      6.46561e-5   3.01359e-5 \n",
       " 0.000194304  0.00118313   0.000125641     0.000147691  3.39901e-5 \n",
       " 0.00310777   0.000140268  7.89946e-5   …  0.00128003   0.000496742\n",
       " 0.000116751  0.00183288   9.3842e-5       9.62769e-5   3.52208e-5 \n",
       " 0.000118227  0.0020519    0.000100492     9.08216e-5   3.57764e-5 \n",
       " ⋮                                      ⋱               ⋮          \n",
       " 7.99232e-5   0.000120255  0.00319561      6.47041e-5   2.99121e-5 \n",
       " 0.000377038  0.000367836  0.000444823  …  0.000438855  7.13317e-5 \n",
       " 0.000120562  0.00205884   9.953e-5        8.96615e-5   3.58468e-5 \n",
       " 0.000117132  0.00206858   0.000104608     8.98072e-5   3.63285e-5 \n",
       " 0.00213761   9.35392e-5   7.54932e-5      0.00196004   0.00121163 \n",
       " 0.003216     0.000148179  8.02819e-5      0.00114307   0.000421977\n",
       " 7.17328e-5   0.000105934  0.00307689   …  6.45769e-5   4.12866e-5 \n",
       " 9.28523e-5   0.000411273  0.00102741      9.86273e-5   3.11257e-5 \n",
       " 0.000139254  0.00118643   0.000159389     0.000127972  3.42675e-5 \n",
       " 0.000465053  0.000454525  0.000327226     0.000425361  5.57274e-5 \n",
       " 0.00163087   9.83747e-5   7.85901e-5      0.00224421   0.00165404 \n",
       " 0.00019567   4.66415e-5   8.88364e-5   …  0.000990524  0.00315722 "
      ]
     },
     "execution_count": 8,
     "metadata": {},
     "output_type": "execute_result"
    }
   ],
   "source": [
    "transitionmatrix(2)"
   ]
  },
  {
   "cell_type": "code",
   "execution_count": 9,
   "metadata": {},
   "outputs": [
    {
     "data": {
      "text/plain": [
       "8×3 Array{Int64,2}:\n",
       " 1   20   35\n",
       " 1   50   60\n",
       " 1   60   50\n",
       " 5  100  250\n",
       " 5   80  120\n",
       " 5   80  120\n",
       " 7   80   80\n",
       " 7   80  100"
      ]
     },
     "execution_count": 9,
     "metadata": {},
     "output_type": "execute_result"
    }
   ],
   "source": [
    "s = [\n",
    "1 20 35\n",
    "1 50 60\n",
    "1 60 50\n",
    "  \n",
    "5 100 250\n",
    "5 80 120\n",
    "5 80 120\n",
    "  \n",
    "7 80 80\n",
    "7 80 100 ]"
   ]
  },
  {
   "cell_type": "code",
   "execution_count": 10,
   "metadata": {},
   "outputs": [
    {
     "data": {
      "text/plain": [
       "4×3 Array{Int64,2}:\n",
       " 1   20  35\n",
       " 1   50  60\n",
       " 1   60  50\n",
       " 8  100  80"
      ]
     },
     "execution_count": 10,
     "metadata": {},
     "output_type": "execute_result"
    }
   ],
   "source": [
    "s = [\n",
    "  1 20 35\n",
    "  1 50 60\n",
    "  1 60 50 \n",
    "  8 100 80]"
   ]
  },
  {
   "cell_type": "code",
   "execution_count": 14,
   "metadata": {},
   "outputs": [
    {
     "data": {
      "text/plain": [
       "Dict{String,Array{Float64,2}} with 4 entries:\n",
       "  \"img1tau60sigma50\"  => [0.00393864 9.45911e-5 … 6.25816e-5 4.95982e-5; 0.0001…\n",
       "  \"img1tau50sigma60\"  => [0.00373148 7.40352e-5 … 5.71406e-5 4.63015e-5; 0.0001…\n",
       "  \"img8tau100sigma80\" => [0.0071969 0.000718439 … 0.00019769 2.6431e-5; 0.00027…\n",
       "  \"img1tau20sigma35\"  => [0.00576121 5.81023e-5 … 1.55017e-5 1.38529e-5; 5.4817…"
      ]
     },
     "execution_count": 14,
     "metadata": {},
     "output_type": "execute_result"
    }
   ],
   "source": [
    "mats = Dict([\"img$(s[i,1])tau$(s[i,2])sigma$(s[i,3])\" => transitionmatrix(s[i,:]...) for i=1:size(s,1)])"
   ]
  },
  {
   "cell_type": "code",
   "execution_count": 15,
   "metadata": {},
   "outputs": [
    {
     "name": "stderr",
     "output_type": "stream",
     "text": [
      "\u001b[1m\u001b[36mINFO: \u001b[39m\u001b[22m\u001b[36mPrecompiling module MAT.\n",
      "\u001b[39m"
     ]
    }
   ],
   "source": [
    "using MAT\n",
    "matwrite(\"transitions.mat\", mats)"
   ]
  },
  {
   "cell_type": "code",
   "execution_count": null,
   "metadata": {},
   "outputs": [],
   "source": []
  }
 ],
 "metadata": {
  "kernelspec": {
   "display_name": "Julia 0.6.2",
   "language": "julia",
   "name": "julia-0.6"
  },
  "language_info": {
   "file_extension": ".jl",
   "mimetype": "application/julia",
   "name": "julia",
   "version": "0.6.2"
  }
 },
 "nbformat": 4,
 "nbformat_minor": 2
}
