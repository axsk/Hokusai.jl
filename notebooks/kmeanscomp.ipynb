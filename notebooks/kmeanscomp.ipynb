{
 "metadata": {
  "language": "Julia",
  "name": "",
  "signature": "sha256:8f1b0e34eec3d4e01ffe439d36586e2a75ef44a4295b7610b675bf54999e2995"
 },
 "nbformat": 3,
 "nbformat_minor": 0,
 "worksheets": [
  {
   "cells": [
    {
     "cell_type": "code",
     "collapsed": true,
     "input": [
      "include(\"../src/hokusai.jl\")\n",
      "using Hokusai, DataFrames, DataArrays, Clustering\n",
      "import PyPlot\n",
      "\n",
      "const left = 52\n",
      "const right = 69\n",
      "data = readtable(\"sallsac_Hokusai.seq\", separator = '\\t');\n",
      "\n",
      "clusternums = [5,5,7,7,6,7,7,8];\n",
      "\n",
      "function filterdata(data, image)\n",
      "    # select the image data\n",
      "    imgpath = \"$image.jpg\"\n",
      "    data = data[data[:image] .== imgpath, :]\n",
      "    \n",
      "    # \"disable\" grouping\n",
      "    #data[:subj] = 0\n",
      "    \n",
      "    # move coordinates to scale from 0->width, 0->height\n",
      "    width, height = data[1,:width], data[1,:height]\n",
      "    dx, dy = (1280-width)/2, (1024-height)/2    \n",
      "    data[:fposx] = data[:fposx] - dx\n",
      "    data[:fposy] = data[:fposy] - dy\n",
      "    \n",
      "    # remove outliers\n",
      "    data = data[((data[:fposx] .> 0) & (data[:fposy] .> 0) & (data[:fposx] .< width) & (data[:fposy] .< height)) , :]\n",
      "    return data\n",
      "end;\n",
      "\n",
      "function savecl(i,n,tau,sigma,method,precl;kmeans=false,overwrite=false)    \n",
      "    path = kmeans ? \"kmeanscomp/img$i n$n kmeans.png\" : \"kmeanscomp/img$i n$n tau$tau sigma$sigma method$method precl$precl.png\"\n",
      "    \n",
      "    if isfile(path) && !overwrite \n",
      "        print(\".\")\n",
      "        return\n",
      "    end\n",
      "\n",
      "    print(\"computing $path \\n\")    \n",
      "    imgdata = filterdata(data,i)\n",
      "\n",
      "    result = kmeans ? Hokusai.kmeans(imgdata[[:fposx, :fposy, :fixdur, :subj]], n) :\n",
      "        Hokusai.cluster(imgdata[[:fposx, :fposy, :fixdur, :subj]], n, tau=tau, sigma=sigma, precluster=precl, sort=:size, method=method);\n",
      "    \n",
      "    #PyPlot.figure(figsize=(10, 5))\n",
      "    \n",
      "    Hokusai.plot(result, \"$i.jpg\", imgdata[1,:width], imgdata[1,:height])\n",
      "    \n",
      "    metastability = round(trace(Hokusai.W(result)) / result.n*100,2)\n",
      "    PyPlot.text(0,0,\"ms=$metastability% i=$i n=$n tau=$tau sigma=$sigma method=$method precl=$precl\")\n",
      "    PyPlot.savefig(path, bbox_inches=\"tight\")\n",
      "    PyPlot.close()\n",
      "    result\n",
      "end;"
     ],
     "language": "python",
     "metadata": {},
     "outputs": []
    },
    {
     "cell_type": "code",
     "collapsed": false,
     "input": [
      "# compute factor clusterings\n",
      "for i=[1:8], n=[clusternums[i]-1:clusternums[i]+1], tau=[0,20,50], \u03c3=[30,60,100,200], method=[:scaling], precl=1000    \n",
      "    savecl(i,n,tau,\u03c3,method,precl);\n",
      "end;"
     ],
     "language": "python",
     "metadata": {},
     "outputs": []
    },
    {
     "cell_type": "code",
     "collapsed": false,
     "input": [
      "#compute kmeans\n",
      "for i=[1:8], n=[clusternums[i]-1:clusternums[i]+1]\n",
      "    savecl(i,n,NaN,NaN,:scaling,5,kmeans=true);\n",
      "end"
     ],
     "language": "python",
     "metadata": {},
     "outputs": []
    },
    {
     "cell_type": "code",
     "collapsed": false,
     "input": [
      "# good results\n",
      "savecl(1,5,50,60,:crispness,0)\n",
      "savecl(1,5,50,60,:scaling,0)\n",
      "savecl(5,6,50,60,:scaling,0)\n",
      "savecl(5,6,50,200,:crispness,0)\n",
      "savecl(5,7,50,200,:scaling,0)\n",
      "savecl(8,7,50,200,:scaling,0)\n",
      "savecl(1,5,20,30,:scaling,0)"
     ],
     "language": "python",
     "metadata": {},
     "outputs": []
    },
    {
     "cell_type": "code",
     "collapsed": false,
     "input": [
      "kmeans = savecl(5,6,50,50,:scaling,200, overwrite=true, kmeans=true)\n",
      "result = savecl(5,6,50,50,:scaling,200, overwrite=true)\n",
      "#print(Hokusai.metastability(kmeans))"
     ],
     "language": "python",
     "metadata": {},
     "outputs": []
    },
    {
     "cell_type": "code",
     "collapsed": false,
     "input": [
      "PyPlot.hist(diag(Hokusai.P),20, log=true)"
     ],
     "language": "python",
     "metadata": {},
     "outputs": []
    }
   ],
   "metadata": {}
  }
 ]
}